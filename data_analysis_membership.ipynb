{
 "cells": [
  {
   "cell_type": "markdown",
   "metadata": {},
   "source": [
    "# Cleaning\n",
    "\n",
    "**We have cleaned the following in the given dataset membership.csv :**\n",
    "- Invalid dates\n",
    "- Dropping duplicates\n",
    "- Null or missing values\n",
    "- Check for 0 or negative price values\n",
    "\n",
    "**We have done the following for improved readability :**\n",
    "- Rename Clients\n",
    "- Rename ContactIds\n",
    "\n",
    "**Insights**\n",
    "- A person (ContactId) can be a member of two different products at the same time."
   ]
  },
  {
   "cell_type": "code",
   "execution_count": 30,
   "metadata": {},
   "outputs": [
    {
     "data": {
      "text/html": [
       "<div>\n",
       "<style scoped>\n",
       "    .dataframe tbody tr th:only-of-type {\n",
       "        vertical-align: middle;\n",
       "    }\n",
       "\n",
       "    .dataframe tbody tr th {\n",
       "        vertical-align: top;\n",
       "    }\n",
       "\n",
       "    .dataframe thead th {\n",
       "        text-align: right;\n",
       "    }\n",
       "</style>\n",
       "<table border=\"1\" class=\"dataframe\">\n",
       "  <thead>\n",
       "    <tr style=\"text-align: right;\">\n",
       "      <th></th>\n",
       "      <th>ContactId</th>\n",
       "      <th>ClientId</th>\n",
       "      <th>Client</th>\n",
       "      <th>ProductId</th>\n",
       "      <th>ProductType</th>\n",
       "      <th>EffectiveDate</th>\n",
       "      <th>ExpireDate</th>\n",
       "      <th>Total</th>\n",
       "    </tr>\n",
       "  </thead>\n",
       "  <tbody>\n",
       "    <tr>\n",
       "      <th>0</th>\n",
       "      <td>0x566B63D73878FD95925F7B6716FAB095</td>\n",
       "      <td>0xCAB892266CB7872B20CED441410BFF5E</td>\n",
       "      <td>SIOR</td>\n",
       "      <td>0x9E8B160226C9FE22A910C782CE5076E2</td>\n",
       "      <td>Membership</td>\n",
       "      <td>9/1/21</td>\n",
       "      <td>8/31/22</td>\n",
       "      <td>104.49</td>\n",
       "    </tr>\n",
       "    <tr>\n",
       "      <th>1</th>\n",
       "      <td>0x77D707DC7112E8379C27E3A1AF0EC034</td>\n",
       "      <td>0xCAB892266CB7872B20CED441410BFF5E</td>\n",
       "      <td>SIOR</td>\n",
       "      <td>0x9E8B160226C9FE22A910C782CE5076E2</td>\n",
       "      <td>Membership</td>\n",
       "      <td>8/1/21</td>\n",
       "      <td>7/31/22</td>\n",
       "      <td>104.49</td>\n",
       "    </tr>\n",
       "    <tr>\n",
       "      <th>2</th>\n",
       "      <td>0xC36639462513FE7C2413AF7449B281BD</td>\n",
       "      <td>0xCAB892266CB7872B20CED441410BFF5E</td>\n",
       "      <td>SIOR</td>\n",
       "      <td>0xCF82E756F655A4E1518567DCDB80CCBF</td>\n",
       "      <td>Membership</td>\n",
       "      <td>6/27/21</td>\n",
       "      <td>6/26/22</td>\n",
       "      <td>36.45</td>\n",
       "    </tr>\n",
       "    <tr>\n",
       "      <th>3</th>\n",
       "      <td>0xC36639462513FE7C2413AF7449B281BD</td>\n",
       "      <td>0xCAB892266CB7872B20CED441410BFF5E</td>\n",
       "      <td>SIOR</td>\n",
       "      <td>0x9E8B160226C9FE22A910C782CE5076E2</td>\n",
       "      <td>Membership</td>\n",
       "      <td>6/19/21</td>\n",
       "      <td>6/18/22</td>\n",
       "      <td>104.49</td>\n",
       "    </tr>\n",
       "    <tr>\n",
       "      <th>4</th>\n",
       "      <td>0xBDF36B8927A18BC973A2AE91E7F5112F</td>\n",
       "      <td>0xCAB892266CB7872B20CED441410BFF5E</td>\n",
       "      <td>SIOR</td>\n",
       "      <td>0x9E8B160226C9FE22A910C782CE5076E2</td>\n",
       "      <td>Membership</td>\n",
       "      <td>6/27/21</td>\n",
       "      <td>6/26/22</td>\n",
       "      <td>104.49</td>\n",
       "    </tr>\n",
       "    <tr>\n",
       "      <th>5</th>\n",
       "      <td>0x18CC10100F771A69BFD13098384C7E46</td>\n",
       "      <td>0xCAB892266CB7872B20CED441410BFF5E</td>\n",
       "      <td>SIOR</td>\n",
       "      <td>0x9E8B160226C9FE22A910C782CE5076E2</td>\n",
       "      <td>Membership</td>\n",
       "      <td>8/2/21</td>\n",
       "      <td>8/1/22</td>\n",
       "      <td>104.49</td>\n",
       "    </tr>\n",
       "    <tr>\n",
       "      <th>6</th>\n",
       "      <td>0x0E49629AB8D42E50157CFDE15186FD8B</td>\n",
       "      <td>0xCAB892266CB7872B20CED441410BFF5E</td>\n",
       "      <td>SIOR</td>\n",
       "      <td>0x9E8B160226C9FE22A910C782CE5076E2</td>\n",
       "      <td>Membership</td>\n",
       "      <td>6/29/21</td>\n",
       "      <td>6/28/22</td>\n",
       "      <td>104.49</td>\n",
       "    </tr>\n",
       "    <tr>\n",
       "      <th>7</th>\n",
       "      <td>0xB584C9347DE96FFE23C5BD103626F03F</td>\n",
       "      <td>0xCAB892266CB7872B20CED441410BFF5E</td>\n",
       "      <td>SIOR</td>\n",
       "      <td>0x9E8B160226C9FE22A910C782CE5076E2</td>\n",
       "      <td>Membership</td>\n",
       "      <td>6/28/21</td>\n",
       "      <td>6/27/22</td>\n",
       "      <td>104.49</td>\n",
       "    </tr>\n",
       "    <tr>\n",
       "      <th>8</th>\n",
       "      <td>0x7181625DB00B71EAA5FEB7C1632F92EB</td>\n",
       "      <td>0xCAB892266CB7872B20CED441410BFF5E</td>\n",
       "      <td>SIOR</td>\n",
       "      <td>0x9E8B160226C9FE22A910C782CE5076E2</td>\n",
       "      <td>Membership</td>\n",
       "      <td>6/28/21</td>\n",
       "      <td>6/27/22</td>\n",
       "      <td>104.49</td>\n",
       "    </tr>\n",
       "    <tr>\n",
       "      <th>9</th>\n",
       "      <td>0xD35391A8B2400414D05B610DBC052102</td>\n",
       "      <td>0xCAB892266CB7872B20CED441410BFF5E</td>\n",
       "      <td>SIOR</td>\n",
       "      <td>0x9E8B160226C9FE22A910C782CE5076E2</td>\n",
       "      <td>Membership</td>\n",
       "      <td>1/1/20</td>\n",
       "      <td>12/31/20</td>\n",
       "      <td>104.49</td>\n",
       "    </tr>\n",
       "  </tbody>\n",
       "</table>\n",
       "</div>"
      ],
      "text/plain": [
       "                            ContactId                            ClientId  \\\n",
       "0  0x566B63D73878FD95925F7B6716FAB095  0xCAB892266CB7872B20CED441410BFF5E   \n",
       "1  0x77D707DC7112E8379C27E3A1AF0EC034  0xCAB892266CB7872B20CED441410BFF5E   \n",
       "2  0xC36639462513FE7C2413AF7449B281BD  0xCAB892266CB7872B20CED441410BFF5E   \n",
       "3  0xC36639462513FE7C2413AF7449B281BD  0xCAB892266CB7872B20CED441410BFF5E   \n",
       "4  0xBDF36B8927A18BC973A2AE91E7F5112F  0xCAB892266CB7872B20CED441410BFF5E   \n",
       "5  0x18CC10100F771A69BFD13098384C7E46  0xCAB892266CB7872B20CED441410BFF5E   \n",
       "6  0x0E49629AB8D42E50157CFDE15186FD8B  0xCAB892266CB7872B20CED441410BFF5E   \n",
       "7  0xB584C9347DE96FFE23C5BD103626F03F  0xCAB892266CB7872B20CED441410BFF5E   \n",
       "8  0x7181625DB00B71EAA5FEB7C1632F92EB  0xCAB892266CB7872B20CED441410BFF5E   \n",
       "9  0xD35391A8B2400414D05B610DBC052102  0xCAB892266CB7872B20CED441410BFF5E   \n",
       "\n",
       "  Client                           ProductId ProductType EffectiveDate  \\\n",
       "0   SIOR  0x9E8B160226C9FE22A910C782CE5076E2  Membership        9/1/21   \n",
       "1   SIOR  0x9E8B160226C9FE22A910C782CE5076E2  Membership        8/1/21   \n",
       "2   SIOR  0xCF82E756F655A4E1518567DCDB80CCBF  Membership       6/27/21   \n",
       "3   SIOR  0x9E8B160226C9FE22A910C782CE5076E2  Membership       6/19/21   \n",
       "4   SIOR  0x9E8B160226C9FE22A910C782CE5076E2  Membership       6/27/21   \n",
       "5   SIOR  0x9E8B160226C9FE22A910C782CE5076E2  Membership        8/2/21   \n",
       "6   SIOR  0x9E8B160226C9FE22A910C782CE5076E2  Membership       6/29/21   \n",
       "7   SIOR  0x9E8B160226C9FE22A910C782CE5076E2  Membership       6/28/21   \n",
       "8   SIOR  0x9E8B160226C9FE22A910C782CE5076E2  Membership       6/28/21   \n",
       "9   SIOR  0x9E8B160226C9FE22A910C782CE5076E2  Membership        1/1/20   \n",
       "\n",
       "  ExpireDate   Total  \n",
       "0    8/31/22  104.49  \n",
       "1    7/31/22  104.49  \n",
       "2    6/26/22   36.45  \n",
       "3    6/18/22  104.49  \n",
       "4    6/26/22  104.49  \n",
       "5     8/1/22  104.49  \n",
       "6    6/28/22  104.49  \n",
       "7    6/27/22  104.49  \n",
       "8    6/27/22  104.49  \n",
       "9   12/31/20  104.49  "
      ]
     },
     "execution_count": 30,
     "metadata": {},
     "output_type": "execute_result"
    }
   ],
   "source": [
    "# Imports\n",
    "import pandas as pd\n",
    "\n",
    "# ImpexiumInsights is the membership data\n",
    "df = pd.read_csv('membership.csv')\n",
    "df.head(5)\n",
    "\n",
    "# Change clients to a more readable format as the following:\n",
    "# Client_1 -> ICSC\n",
    "# Client_2 -> SIOR\n",
    "# Client_3 -> NAIOP\n",
    "df['Client'] = df['Client'].replace('Client_1', 'ICSC')\n",
    "df['Client'] = df['Client'].replace('Client_2', 'SIOR')\n",
    "df['Client'] = df['Client'].replace('Client_3', 'NAIOP')\n",
    "df.head(10)"
   ]
  },
  {
   "cell_type": "code",
   "execution_count": 31,
   "metadata": {},
   "outputs": [
    {
     "name": "stdout",
     "output_type": "stream",
     "text": [
      "Are there any entries in the new data frame that are invalid for dates? False\n"
     ]
    }
   ],
   "source": [
    "# Removing all entries where EffectiveDate > ExpireDate\n",
    "df['EffectiveDate'] = pd.to_datetime(df['EffectiveDate'], format='%m/%d/%y')\n",
    "df['ExpireDate'] = pd.to_datetime(df['ExpireDate'], format='%m/%d/%y')\n",
    "valid_df = df[df['EffectiveDate'] <= df['ExpireDate']]\n",
    "\n",
    "# Check \n",
    "invalid_df = valid_df[valid_df['EffectiveDate'] > valid_df['ExpireDate']]\n",
    "print(\"Are there any entries in the new data frame that are invalid for dates?\", not(invalid_df.to_xarray))\n",
    "\n",
    "\n",
    "# Check passed so modify data frame\n",
    "df = valid_df"
   ]
  },
  {
   "cell_type": "code",
   "execution_count": 32,
   "metadata": {},
   "outputs": [
    {
     "name": "stdout",
     "output_type": "stream",
     "text": [
      "Are there any prices that are 0 or negative? False\n"
     ]
    }
   ],
   "source": [
    "# Are there any prices that are 0 or negative?\n",
    "invalid_rows = df[df['Total'] <= 0]\n",
    "\n",
    "# Check\n",
    "print(\"Are there any prices that are 0 or negative?\", not(invalid_rows.to_xarray))"
   ]
  },
  {
   "cell_type": "code",
   "execution_count": 33,
   "metadata": {},
   "outputs": [
    {
     "name": "stdout",
     "output_type": "stream",
     "text": [
      "Can different people be members of the same ProductId at the same time? True\n"
     ]
    }
   ],
   "source": [
    "# Can different people be members of the same ProductId at the same time?\n",
    "unique_products = df.groupby('ContactId')['ProductId'].nunique()\n",
    "subscriptions = unique_products[unique_products > 1]\n",
    "\n",
    "# Check\n",
    "print(\"Can different people be members of the same ProductId at the same time?\", not(not({subscriptions.to_dict})))"
   ]
  },
  {
   "cell_type": "code",
   "execution_count": 51,
   "metadata": {},
   "outputs": [
    {
     "name": "stdout",
     "output_type": "stream",
     "text": [
      "Entries:\n",
      "Empty DataFrame\n",
      "Columns: [ContactId, ProductId, EffectiveDate, ExpireDate, ClientId, Client, ProductType, Total]\n",
      "Index: []\n"
     ]
    }
   ],
   "source": [
    "# Before we check duplicates, check for this question:\n",
    "# Can entries that have the same ContactId, ProductId, EffectiveDate, ExpireDate, have different Total values.\n",
    "\n",
    "# Group entries by chosed columns to check for variability in Total\n",
    "total_cols = df.groupby(['ContactId', 'ProductId', 'EffectiveDate', 'ExpireDate'])['Total'].nunique() > 1\n",
    "\n",
    "# Create a new dataframe based on more than 1 Total values\n",
    "indexes = total_cols[total_cols].index\n",
    "unique_totals = df.set_index(['ContactId', 'ProductId', 'EffectiveDate', 'ExpireDate'])\n",
    "updated_df = unique_totals.loc[indexes].reset_index()\n",
    "\n",
    "# Check\n",
    "print(\"Entries:\")\n",
    "print(updated_df)"
   ]
  },
  {
   "cell_type": "code",
   "execution_count": 34,
   "metadata": {},
   "outputs": [
    {
     "name": "stdout",
     "output_type": "stream",
     "text": [
      "There are no duplicates in the new data frame, based on the specified columns above? True\n"
     ]
    }
   ],
   "source": [
    "# Dropping all duplicates that have the same ContactId, ProductId, EffectiveDate, and ExpireDate\n",
    "df['EffectiveDate'] = pd.to_datetime(df['EffectiveDate'], format='%m/%d/%y')\n",
    "df['ExpireDate'] = pd.to_datetime(df['ExpireDate'], format='%m/%d/%y')\n",
    "df_unique = df.drop_duplicates(subset=['ContactId', 'ProductId', 'EffectiveDate', 'ExpireDate'])\n",
    "\n",
    "# Check \n",
    "duplicates_check = df_unique.duplicated(subset=['ContactId', 'ProductId', 'EffectiveDate', 'ExpireDate'], keep=False)\n",
    "no_duplicates = not duplicates_check.any()\n",
    "print(\"There are no duplicates in the new data frame, based on the specified columns above?\", no_duplicates)\n",
    "\n",
    "# Check passed so modify data frame\n",
    "df = df_unique"
   ]
  },
  {
   "cell_type": "code",
   "execution_count": 35,
   "metadata": {},
   "outputs": [
    {
     "name": "stdout",
     "output_type": "stream",
     "text": [
      "Are there any null or missing values in the data frame? False\n"
     ]
    }
   ],
   "source": [
    "# Identifying any null or missing values\n",
    "missing_entries = df[df.isnull().any(axis=1) | df.applymap(lambda x: x == '').any(axis=1)]\n",
    "\n",
    "# Check\n",
    "print(\"Are there any null or missing values in the data frame?\", not(missing_entries.to_xarray))"
   ]
  },
  {
   "cell_type": "code",
   "execution_count": 36,
   "metadata": {},
   "outputs": [
    {
     "name": "stdout",
     "output_type": "stream",
     "text": [
      "  ContactId                            ClientId Client  \\\n",
      "0  Member 1  0xCAB892266CB7872B20CED441410BFF5E   SIOR   \n",
      "1  Member 2  0xCAB892266CB7872B20CED441410BFF5E   SIOR   \n",
      "2  Member 3  0xCAB892266CB7872B20CED441410BFF5E   SIOR   \n",
      "3  Member 3  0xCAB892266CB7872B20CED441410BFF5E   SIOR   \n",
      "4  Member 4  0xCAB892266CB7872B20CED441410BFF5E   SIOR   \n",
      "\n",
      "                            ProductId ProductType EffectiveDate ExpireDate  \\\n",
      "0  0x9E8B160226C9FE22A910C782CE5076E2  Membership    2021-09-01 2022-08-31   \n",
      "1  0x9E8B160226C9FE22A910C782CE5076E2  Membership    2021-08-01 2022-07-31   \n",
      "2  0xCF82E756F655A4E1518567DCDB80CCBF  Membership    2021-06-27 2022-06-26   \n",
      "3  0x9E8B160226C9FE22A910C782CE5076E2  Membership    2021-06-19 2022-06-18   \n",
      "4  0x9E8B160226C9FE22A910C782CE5076E2  Membership    2021-06-27 2022-06-26   \n",
      "\n",
      "    Total  \n",
      "0  104.49  \n",
      "1  104.49  \n",
      "2   36.45  \n",
      "3  104.49  \n",
      "4  104.49  \n"
     ]
    }
   ],
   "source": [
    "# Generate a unique \"Member X\" identifier for each unique ContactId\n",
    "temp_df = df.copy()\n",
    "unique_ids = temp_df['ContactId'].unique()\n",
    "member_mapping = {id_: f\"Member {i+1}\" for i, id_ in enumerate(unique_ids)}\n",
    "temp_df['ContactId'] = temp_df['ContactId'].map(member_mapping)\n",
    "\n",
    "# Check\n",
    "print(temp_df.head(5))\n",
    "\n",
    "# Check passed so modify data frame\n",
    "df = temp_df"
   ]
  },
  {
   "cell_type": "code",
   "execution_count": 37,
   "metadata": {},
   "outputs": [],
   "source": [
    "# Saving updated data frame to the csv\n",
    "# Always run this at the end of your work session:\n",
    "df.to_csv('modified_membership.csv', index=False)"
   ]
  },
  {
   "cell_type": "code",
   "execution_count": 38,
   "metadata": {},
   "outputs": [],
   "source": [
    "# Membership Ranges\n",
    "# Come back to this after cleaning\n",
    "# def assign_membership(total):\n",
    "#     if total < 350:\n",
    "#         return 'Standard'\n",
    "#     elif 350 <= total < 700:\n",
    "#         return 'Silver'\n",
    "#     elif total >= 700:\n",
    "#         return 'Gold'\n",
    "\n",
    "# product_totals = df.copy()\n",
    "# product_totals['Membership'] = product_totals['Total'].apply(assign_membership)\n",
    "# product_id_to_membership = product_totals.set_index('ProductId')['Membership'].to_dict()\n",
    "\n",
    "\n",
    "# df['ProductId'] = df['ProductId'].map(product_id_to_membership)"
   ]
  },
  {
   "cell_type": "markdown",
   "metadata": {},
   "source": [
    "# Analysis\n",
    "\n",
    "**Questions we looked into :**\n",
    "- What is the proportion of people who renew? \n",
    "- How many times do unique contact ID’s renew their memberships?"
   ]
  },
  {
   "cell_type": "code",
   "execution_count": 39,
   "metadata": {},
   "outputs": [
    {
     "name": "stdout",
     "output_type": "stream",
     "text": [
      "Proportion of active members:  40621 out of 94336\n"
     ]
    }
   ],
   "source": [
    "# Proportion of people that renew memberships?\n",
    "\n",
    "# Sort the DataFrame and avoid changing the original df\n",
    "df_s = df.sort_values(by=['ContactId', 'ProductId', 'EffectiveDate', 'ExpireDate'])\n",
    "df_s['EffectiveDate'] = pd.to_datetime(df_s['EffectiveDate'], format='%m/%d/%Y')\n",
    "df_s['ExpireDate'] = pd.to_datetime(df_s['ExpireDate'], format='%m/%d/%Y')\n",
    "\n",
    "# Custom function to identify renewals\n",
    "def check_membership(group):\n",
    "    group['Renewed'] = group['EffectiveDate'].shift(-1) > group['ExpireDate']\n",
    "    return group\n",
    "\n",
    "renewals = df_s.groupby(['ContactId', 'ProductId'], group_keys=False).apply(check_membership)\n",
    "df_renewed_memberships = renewals[renewals['Renewed'] == True]\n",
    "renewed_unique_contact_ids = df_renewed_memberships['ContactId'].nunique()\n",
    "total_unique_contact_ids = df['ContactId'].nunique()\n",
    "\n",
    "# Check\n",
    "print(\"Proportion of active members: \", renewed_unique_contact_ids, \"out of\", total_unique_contact_ids)"
   ]
  },
  {
   "cell_type": "code",
   "execution_count": 40,
   "metadata": {},
   "outputs": [
    {
     "name": "stdout",
     "output_type": "stream",
     "text": [
      "{'ICSC': 0.2672058357120203, 'SIOR': 0.4820244275725475, 'NAIOP': 0.33996551266746255}\n",
      "Client 2, SIOR, has the highet renewals with approximately 48%\n"
     ]
    }
   ],
   "source": [
    "# Proportion of people that renew membership based on Clients.\n",
    "\n",
    "# Custom function to identify renewals\n",
    "def calculate_renewal_rate(client_df):\n",
    "    # Sort the DataFrame and avoid changing the original df\n",
    "    df_s = client_df.sort_values(by=['ContactId', 'ProductId', 'EffectiveDate', 'ExpireDate'])\n",
    "    df_s['EffectiveDate'] = pd.to_datetime(df_s['EffectiveDate'], format='%m/%d/%Y')\n",
    "    df_s['ExpireDate'] = pd.to_datetime(df_s['ExpireDate'], format='%m/%d/%Y')\n",
    "    \n",
    "    # The actual checking logic\n",
    "    renewals = df_s.groupby(['ContactId', 'ProductId'], group_keys=False).apply(check_membership)\n",
    "    df_renewed_memberships = renewals[renewals['Renewed'] == True]\n",
    "    renewed_unique_contact_ids = df_renewed_memberships['ContactId'].nunique()\n",
    "    total_unique_contact_ids = client_df['ContactId'].nunique()\n",
    "    \n",
    "    # Defining ans\n",
    "    # ans = \"Proportion of active members: \", renewed_unique_contact_ids, \"out of\", total_unique_contact_ids\n",
    "    return renewed_unique_contact_ids / total_unique_contact_ids if total_unique_contact_ids else 0\n",
    "\n",
    "# Apply the custom function to each client\n",
    "clients = ['ICSC', 'SIOR', 'NAIOP']\n",
    "\n",
    "# Storing renewal rates in the dictionary\n",
    "renewal_rates = {}\n",
    "for client in clients:\n",
    "    client_df = df[df['Client'] == client]\n",
    "    renewal_rates[client] = calculate_renewal_rate(client_df)\n",
    "    \n",
    "print(renewal_rates)\n",
    "print(\"Client 2, SIOR, has the highet renewals with approximately 48%\")"
   ]
  },
  {
   "cell_type": "code",
   "execution_count": 41,
   "metadata": {},
   "outputs": [
    {
     "name": "stdout",
     "output_type": "stream",
     "text": [
      "Client\n",
      "ICSC     2.358427e+06\n",
      "NAIOP    4.435280e+06\n",
      "SIOR     1.128210e+07\n",
      "Name: Total, dtype: float64\n",
      "The most profitable client is Client 2, SIOR, with a profit of $11,282,100\n"
     ]
    }
   ],
   "source": [
    "# The most profitable Client\n",
    "\n",
    "client_totals = df.groupby('Client')['Total'].sum()\n",
    "print(client_totals)\n",
    "print(\"The most profitable client is Client 2, SIOR, with a profit of $11,282,100\")"
   ]
  },
  {
   "cell_type": "code",
   "execution_count": 42,
   "metadata": {},
   "outputs": [
    {
     "name": "stdout",
     "output_type": "stream",
     "text": [
      "Products associated with more than one client:\n",
      "ProductId\n",
      "0x9E8B160226C9FE22A910C782CE5076E2    [SIOR, ICSC]\n",
      "0xF5C0A1C9384C2E25E79BA1ABF5D9A037    [SIOR, ICSC]\n",
      "Name: Client, dtype: object\n"
     ]
    }
   ],
   "source": [
    "# Checking if a ProductId can belong to mutliple clients?\n",
    "\n",
    "product_by_clients = df.groupby('ProductId')['Client'].unique()\n",
    "overlap = product_by_clients[product_by_clients.apply(len) > 1]\n",
    "print(\"Products associated with more than one client:\")\n",
    "print(overlap)"
   ]
  },
  {
   "cell_type": "code",
   "execution_count": 43,
   "metadata": {},
   "outputs": [
    {
     "name": "stdout",
     "output_type": "stream",
     "text": [
      "The proportion of products with multiple total values: 0.5396825396825397\n"
     ]
    }
   ],
   "source": [
    "# Find the proportion of products that have multiple 'Total' values to all products.\n",
    "\n",
    "products_by_totals = df.groupby('ProductId')['Total'].nunique()\n",
    "num_products = (products_by_totals > 1).sum()\n",
    "total_products = df['ProductId'].nunique()\n",
    "proportion = num_products / total_products\n",
    "print(\"The proportion of products with multiple total values:\", (num_products / total_products))"
   ]
  },
  {
   "cell_type": "code",
   "execution_count": 67,
   "metadata": {},
   "outputs": [
    {
     "name": "stdout",
     "output_type": "stream",
     "text": [
      "Top 10 products by total value along with their associated clients:\n",
      "                                      TotalValue     Clients  EntriesCount\n",
      "ProductId                                                                 \n",
      "0x9E8B160226C9FE22A910C782CE5076E2  8.236375e+06  SIOR, ICSC         73389\n",
      "0x9E9FBC05EDA3A31D3D7D2D99F6CCBB44  2.797043e+06       NAIOP         16327\n",
      "0xF5C0A1C9384C2E25E79BA1ABF5D9A037  2.097246e+06  SIOR, ICSC         39104\n",
      "0xB1D787D73861B99E3C6EAAB152ECC267  1.074224e+06       NAIOP          3326\n",
      "0x83328A9B5BCBD66B31C8B882E78C7B0F  1.046778e+06        SIOR         67665\n",
      "0xBC0C8546EF1FC064C277B3CEECF1B68E  5.484348e+05        SIOR          9811\n",
      "0x1F9328EF4BFD437D552C96F5B1D116EE  2.846097e+05       NAIOP          1660\n",
      "0x8C19A547F4F2D76D4F47B8EFFB73F4F7  2.712738e+05        ICSC          1907\n",
      "0x54F95A5E234DD10A3244A98632BA45CB  2.229570e+05        ICSC          2266\n",
      "0x5158A250E30F1FB4415D86DED2C8E0C5  1.966949e+05        ICSC           610\n",
      "\n",
      "\n",
      "Top 5 products by number of entries:\n",
      "                                    EntriesCount\n",
      "ProductId                                       \n",
      "0x9E8B160226C9FE22A910C782CE5076E2         73389\n",
      "0x83328A9B5BCBD66B31C8B882E78C7B0F         67665\n",
      "0xF5C0A1C9384C2E25E79BA1ABF5D9A037         39104\n",
      "0x9E9FBC05EDA3A31D3D7D2D99F6CCBB44         16327\n",
      "0xBC0C8546EF1FC064C277B3CEECF1B68E          9811\n"
     ]
    }
   ],
   "source": [
    "# Finding the most profitable products? And compare the result to top products by entries.\n",
    "# If the top 10 most profitable products has multiple clients, then those clients are listed.\n",
    "\n",
    "product_by_totals = df.groupby('ProductId')['Total'].sum()\n",
    "product_by_clients = df.groupby('ProductId')['Client'].unique().apply(', '.join)\n",
    "product_by_count = df.groupby('ProductId').size()\n",
    "\n",
    "# Combining products for clients\n",
    "combined_df = pd.DataFrame({\n",
    "    'TotalValue': product_by_totals,\n",
    "    'Clients': product_by_clients,\n",
    "    'EntriesCount': product_by_count\n",
    "})\n",
    "sorted_df = combined_df.sort_values(by='TotalValue', ascending=False)\n",
    "most_profitable = sorted_df.head(10)\n",
    "print(\"Top 10 products by total value along with their associated clients:\")\n",
    "print(most_profitable)\n",
    "\n",
    "# Compare results\n",
    "entries_df = pd.DataFrame({\n",
    "    'EntriesCount': product_by_count\n",
    "}).sort_values(by='EntriesCount', ascending=False)\n",
    "most_entries = entries_df.head(5)\n",
    "print(\"\\n\")\n",
    "print(\"Top 5 products by number of entries:\")\n",
    "print(most_entries)"
   ]
  },
  {
   "cell_type": "code",
   "execution_count": 74,
   "metadata": {},
   "outputs": [
    {
     "name": "stdout",
     "output_type": "stream",
     "text": [
      "Statistics for top 5 products by Total:\n",
      "                                         min       max    median        mean  \\\n",
      "ProductId                                                                      \n",
      "0x9E8B160226C9FE22A910C782CE5076E2    0.8100   253.125  104.4900  112.229018   \n",
      "0x9E9FBC05EDA3A31D3D7D2D99F6CCBB44    9.7200   230.850  170.1000  171.313958   \n",
      "0xF5C0A1C9384C2E25E79BA1ABF5D9A037   13.5027    77.760   55.8900   53.632509   \n",
      "0xB1D787D73861B99E3C6EAAB152ECC267  275.4000  1069.200  319.9500  322.977880   \n",
      "0x83328A9B5BCBD66B31C8B882E78C7B0F    1.4580   125.874   10.4895   15.470000   \n",
      "\n",
      "                                          std  \n",
      "ProductId                                      \n",
      "0x9E8B160226C9FE22A910C782CE5076E2  27.327292  \n",
      "0x9E9FBC05EDA3A31D3D7D2D99F6CCBB44   4.524739  \n",
      "0xF5C0A1C9384C2E25E79BA1ABF5D9A037   7.047114  \n",
      "0xB1D787D73861B99E3C6EAAB152ECC267  16.441222  \n",
      "0x83328A9B5BCBD66B31C8B882E78C7B0F  23.449220  \n",
      "\n",
      "\n",
      "Statistics for the Total column:\n",
      "min          0.810000\n",
      "max       1069.200000\n",
      "median      55.890000\n",
      "mean        74.274769\n",
      "std         62.256087\n",
      "Name: Total, dtype: float64\n"
     ]
    }
   ],
   "source": [
    "# Getting the minimum, maximum, median, mean, and standard deviation for the top 5 products.\n",
    "\n",
    "# Use the previous most_profitable output to filter and find statistics\n",
    "filter_df = most_profitable.index[:5]\n",
    "product_stats = df[df['ProductId'].isin(filter_df)]\n",
    "stats_df = product_stats.groupby('ProductId')['Total'].agg(['min', 'max', 'median', 'mean', 'std'])\n",
    "\n",
    "# Display data in descending order for Total value\n",
    "ordered_df = stats_df.reindex(filter_df)\n",
    "print(\"Statistics for top 5 products by Total:\")\n",
    "print(ordered_df)\n",
    "\n",
    "# Finding the statistics for the Total column as a whole\n",
    "general_stats = df['Total'].agg(['min', 'max', 'median', 'mean', 'std'])\n",
    "\n",
    "# Displaying results\n",
    "print(\"\\n\")\n",
    "print(\"Statistics for the Total column:\")\n",
    "print(general_stats)"
   ]
  },
  {
   "cell_type": "code",
   "execution_count": 82,
   "metadata": {},
   "outputs": [
    {
     "data": {
      "image/png": "[encoded data removed]",
      "text/plain": [
       "<Figure size 1200x300 with 1 Axes>"
      ]
     },
     "metadata": {},
     "output_type": "display_data"
    }
   ],
   "source": [
    "import matplotlib.pyplot as plt\n",
    "\n",
    "# Manually putting in the data\n",
    "table_data = [\n",
    "    [\"Product\", \"Total Value\", \"Clients\", \"Entries Count\", \"Median\"],\n",
    "    [\"Product 1\", \"8,236,375\", \"SIOR, ICSC\", \"73,389\", \"104.49\"],\n",
    "    [\"Product 2\", \"2,797,043\", \"NAIOP\", \"16,327\", \"170.1\"],\n",
    "    [\"Product 3\", \"2,097,246\", \"SIOR, ICSC\", \"39,104\", \"55.89\"],\n",
    "    [\"Product 4\", \"1,074,224\", \"NAIOP\", \"3,326\", \"319.95\"],\n",
    "    [\"Product 5\", \"1,046,778\", \"SIOR\", \"67,665\", \"10.4895\"]\n",
    "]\n",
    "\n",
    "# Creating the plot and axis\n",
    "fig, ax = plt.subplots(figsize=(12, 3))  # Adjust the size as needed\n",
    "ax.axis('tight')\n",
    "ax.axis('off')\n",
    "\n",
    "# Creating the table\n",
    "table = ax.table(cellText=table_data, cellLoc='center', loc='center', colWidths=[0.2 for x in table_data[0]])\n",
    "table.auto_set_font_size(False)\n",
    "table.set_fontsize(15)\n",
    "table.scale(2, 2)\n",
    "plt.show()"
   ]
  }
 ],
 "metadata": {
  "kernelspec": {
   "display_name": "Python 3",
   "language": "python",
   "name": "python3"
  },
  "language_info": {
   "codemirror_mode": {
    "name": "ipython",
    "version": 3
   },
   "file_extension": ".py",
   "mimetype": "text/x-python",
   "name": "python",
   "nbconvert_exporter": "python",
   "pygments_lexer": "ipython3",
   "version": "3.10.7"
  }
 },
 "nbformat": 4,
 "nbformat_minor": 2
}
