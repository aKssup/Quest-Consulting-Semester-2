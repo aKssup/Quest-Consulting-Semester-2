{
 "cells": [
  {
   "cell_type": "code",
   "execution_count": 5,
   "metadata": {},
   "outputs": [],
   "source": [
    "import pandas as pd\n",
    "df = pd.read_csv('ImpexiumInsights.csv')\n",
    "df.head(10)\n",
    "\n",
    "# Change client IDs to a more readible format as the following:\n",
    "# Client_1 -> ICSC\n",
    "# Client_2 -> SIOR\n",
    "# Client_3 -> NAIOP\n",
    "\n",
    "df['Client'] = df['Client'].replace('Client_1', 'ICSC')\n",
    "df['Client'] = df['Client'].replace('Client_2', 'SIOR')\n",
    "df['Client'] = df['Client'].replace('Client_3', 'NAIOP')\n",
    "df.head(10)\n",
    "\n",
    "# Saving updated data frame to the csv\n",
    "\n",
    "df.to_csv('modified_impexiumInsights.csv', index=False)"
   ]
  }
 ],
 "metadata": {
  "kernelspec": {
   "display_name": "Python 3",
   "language": "python",
   "name": "python3"
  },
  "language_info": {
   "codemirror_mode": {
    "name": "ipython",
    "version": 3
   },
   "file_extension": ".py",
   "mimetype": "text/x-python",
   "name": "python",
   "nbconvert_exporter": "python",
   "pygments_lexer": "ipython3",
   "version": "3.10.7"
  }
 },
 "nbformat": 4,
 "nbformat_minor": 2
}
