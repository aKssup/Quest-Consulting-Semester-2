{
 "cells": [
  {
   "cell_type": "markdown",
   "metadata": {},
   "source": [
    "# Cleaning\n",
    "\n",
    "**We have cleaned the following in the given dataset subscription.csv :**\n",
    "- Invalid dates\n",
    "- Dropping duplicates\n",
    "- Null or missing values\n",
    "- Check for 0 or negative price values\n",
    "- Remove dates in the future\n",
    "\n",
    "**We have done the following for improved readability :**\n",
    "- Rename Clients\n",
    "- Rename ContactIds"
   ]
  },
  {
   "cell_type": "code",
   "execution_count": 1,
   "metadata": {},
   "outputs": [
    {
     "data": {
      "text/html": [
       "<div>\n",
       "<style scoped>\n",
       "    .dataframe tbody tr th:only-of-type {\n",
       "        vertical-align: middle;\n",
       "    }\n",
       "\n",
       "    .dataframe tbody tr th {\n",
       "        vertical-align: top;\n",
       "    }\n",
       "\n",
       "    .dataframe thead th {\n",
       "        text-align: right;\n",
       "    }\n",
       "</style>\n",
       "<table border=\"1\" class=\"dataframe\">\n",
       "  <thead>\n",
       "    <tr style=\"text-align: right;\">\n",
       "      <th></th>\n",
       "      <th>ContactId</th>\n",
       "      <th>ClientId</th>\n",
       "      <th>Client</th>\n",
       "      <th>ProductId</th>\n",
       "      <th>ProductType</th>\n",
       "      <th>EffectiveDate</th>\n",
       "      <th>ExpireDate</th>\n",
       "      <th>Total</th>\n",
       "    </tr>\n",
       "  </thead>\n",
       "  <tbody>\n",
       "    <tr>\n",
       "      <th>0</th>\n",
       "      <td>0xD474CF42D6FEECADAC5AE0E44C19976B</td>\n",
       "      <td>0x69CB4E2FB587F20F7AF21D60E989ADAB</td>\n",
       "      <td>NAIOP</td>\n",
       "      <td>0x3D5A19AE11AFFDB22AD9FFDD548D2E9F</td>\n",
       "      <td>Subscription</td>\n",
       "      <td>6/23/21</td>\n",
       "      <td>12/22/21</td>\n",
       "      <td>518.40</td>\n",
       "    </tr>\n",
       "    <tr>\n",
       "      <th>1</th>\n",
       "      <td>0xFB44C5545DC4AE04868E12D73D862634</td>\n",
       "      <td>0x69CB4E2FB587F20F7AF21D60E989ADAB</td>\n",
       "      <td>NAIOP</td>\n",
       "      <td>0x3D5A19AE11AFFDB22AD9FFDD548D2E9F</td>\n",
       "      <td>Subscription</td>\n",
       "      <td>6/23/21</td>\n",
       "      <td>12/22/21</td>\n",
       "      <td>376.65</td>\n",
       "    </tr>\n",
       "    <tr>\n",
       "      <th>2</th>\n",
       "      <td>0xF495D2F04206745FD3BEDF273E2F4B56</td>\n",
       "      <td>0x69CB4E2FB587F20F7AF21D60E989ADAB</td>\n",
       "      <td>NAIOP</td>\n",
       "      <td>0x5DC2BF4201BAA480B8B9E34BD2E8CC2E</td>\n",
       "      <td>Subscription</td>\n",
       "      <td>3/10/21</td>\n",
       "      <td>9/9/21</td>\n",
       "      <td>149.85</td>\n",
       "    </tr>\n",
       "    <tr>\n",
       "      <th>3</th>\n",
       "      <td>0x8216681574001C438CC9FF22BC43C873</td>\n",
       "      <td>0x69CB4E2FB587F20F7AF21D60E989ADAB</td>\n",
       "      <td>NAIOP</td>\n",
       "      <td>0x3D86FFF3CCD71A7D8C33069E4FF64A97</td>\n",
       "      <td>Subscription</td>\n",
       "      <td>3/12/21</td>\n",
       "      <td>9/11/21</td>\n",
       "      <td>185.49</td>\n",
       "    </tr>\n",
       "    <tr>\n",
       "      <th>4</th>\n",
       "      <td>0xC7F1B0DF76E21A15DC9506D31F3B7170</td>\n",
       "      <td>0x69CB4E2FB587F20F7AF21D60E989ADAB</td>\n",
       "      <td>NAIOP</td>\n",
       "      <td>0x5DC2BF4201BAA480B8B9E34BD2E8CC2E</td>\n",
       "      <td>Subscription</td>\n",
       "      <td>2/28/21</td>\n",
       "      <td>8/27/21</td>\n",
       "      <td>109.35</td>\n",
       "    </tr>\n",
       "    <tr>\n",
       "      <th>5</th>\n",
       "      <td>0x36913F1B51F4F312B2C10FBC4334BC69</td>\n",
       "      <td>0x69CB4E2FB587F20F7AF21D60E989ADAB</td>\n",
       "      <td>NAIOP</td>\n",
       "      <td>0x3D86FFF3CCD71A7D8C33069E4FF64A97</td>\n",
       "      <td>Subscription</td>\n",
       "      <td>2/4/21</td>\n",
       "      <td>8/3/21</td>\n",
       "      <td>206.55</td>\n",
       "    </tr>\n",
       "    <tr>\n",
       "      <th>6</th>\n",
       "      <td>0xAAE00CF86BA9E1E636ABC433BB02F32A</td>\n",
       "      <td>0x69CB4E2FB587F20F7AF21D60E989ADAB</td>\n",
       "      <td>NAIOP</td>\n",
       "      <td>0x3D86FFF3CCD71A7D8C33069E4FF64A97</td>\n",
       "      <td>Subscription</td>\n",
       "      <td>10/2/20</td>\n",
       "      <td>4/1/21</td>\n",
       "      <td>206.55</td>\n",
       "    </tr>\n",
       "    <tr>\n",
       "      <th>7</th>\n",
       "      <td>0x215DA9F808D832EA1E0347464F3AF768</td>\n",
       "      <td>0x69CB4E2FB587F20F7AF21D60E989ADAB</td>\n",
       "      <td>NAIOP</td>\n",
       "      <td>0xC26C28C3E5CE081CD77B28FAD9884A8C</td>\n",
       "      <td>Subscription</td>\n",
       "      <td>12/4/20</td>\n",
       "      <td>6/3/21</td>\n",
       "      <td>265.68</td>\n",
       "    </tr>\n",
       "    <tr>\n",
       "      <th>8</th>\n",
       "      <td>0xF06E88279C9F90257664CB0C7BF1A284</td>\n",
       "      <td>0x69CB4E2FB587F20F7AF21D60E989ADAB</td>\n",
       "      <td>NAIOP</td>\n",
       "      <td>0xC26C28C3E5CE081CD77B28FAD9884A8C</td>\n",
       "      <td>Subscription</td>\n",
       "      <td>2/18/21</td>\n",
       "      <td>8/17/21</td>\n",
       "      <td>295.65</td>\n",
       "    </tr>\n",
       "    <tr>\n",
       "      <th>9</th>\n",
       "      <td>0xB2E83B0725AB3C956888FD4091CDB608</td>\n",
       "      <td>0x69CB4E2FB587F20F7AF21D60E989ADAB</td>\n",
       "      <td>NAIOP</td>\n",
       "      <td>0xC26C28C3E5CE081CD77B28FAD9884A8C</td>\n",
       "      <td>Subscription</td>\n",
       "      <td>6/18/21</td>\n",
       "      <td>12/17/21</td>\n",
       "      <td>265.68</td>\n",
       "    </tr>\n",
       "  </tbody>\n",
       "</table>\n",
       "</div>"
      ],
      "text/plain": [
       "                            ContactId                            ClientId  \\\n",
       "0  0xD474CF42D6FEECADAC5AE0E44C19976B  0x69CB4E2FB587F20F7AF21D60E989ADAB   \n",
       "1  0xFB44C5545DC4AE04868E12D73D862634  0x69CB4E2FB587F20F7AF21D60E989ADAB   \n",
       "2  0xF495D2F04206745FD3BEDF273E2F4B56  0x69CB4E2FB587F20F7AF21D60E989ADAB   \n",
       "3  0x8216681574001C438CC9FF22BC43C873  0x69CB4E2FB587F20F7AF21D60E989ADAB   \n",
       "4  0xC7F1B0DF76E21A15DC9506D31F3B7170  0x69CB4E2FB587F20F7AF21D60E989ADAB   \n",
       "5  0x36913F1B51F4F312B2C10FBC4334BC69  0x69CB4E2FB587F20F7AF21D60E989ADAB   \n",
       "6  0xAAE00CF86BA9E1E636ABC433BB02F32A  0x69CB4E2FB587F20F7AF21D60E989ADAB   \n",
       "7  0x215DA9F808D832EA1E0347464F3AF768  0x69CB4E2FB587F20F7AF21D60E989ADAB   \n",
       "8  0xF06E88279C9F90257664CB0C7BF1A284  0x69CB4E2FB587F20F7AF21D60E989ADAB   \n",
       "9  0xB2E83B0725AB3C956888FD4091CDB608  0x69CB4E2FB587F20F7AF21D60E989ADAB   \n",
       "\n",
       "  Client                           ProductId   ProductType EffectiveDate  \\\n",
       "0  NAIOP  0x3D5A19AE11AFFDB22AD9FFDD548D2E9F  Subscription       6/23/21   \n",
       "1  NAIOP  0x3D5A19AE11AFFDB22AD9FFDD548D2E9F  Subscription       6/23/21   \n",
       "2  NAIOP  0x5DC2BF4201BAA480B8B9E34BD2E8CC2E  Subscription       3/10/21   \n",
       "3  NAIOP  0x3D86FFF3CCD71A7D8C33069E4FF64A97  Subscription       3/12/21   \n",
       "4  NAIOP  0x5DC2BF4201BAA480B8B9E34BD2E8CC2E  Subscription       2/28/21   \n",
       "5  NAIOP  0x3D86FFF3CCD71A7D8C33069E4FF64A97  Subscription        2/4/21   \n",
       "6  NAIOP  0x3D86FFF3CCD71A7D8C33069E4FF64A97  Subscription       10/2/20   \n",
       "7  NAIOP  0xC26C28C3E5CE081CD77B28FAD9884A8C  Subscription       12/4/20   \n",
       "8  NAIOP  0xC26C28C3E5CE081CD77B28FAD9884A8C  Subscription       2/18/21   \n",
       "9  NAIOP  0xC26C28C3E5CE081CD77B28FAD9884A8C  Subscription       6/18/21   \n",
       "\n",
       "  ExpireDate   Total  \n",
       "0   12/22/21  518.40  \n",
       "1   12/22/21  376.65  \n",
       "2     9/9/21  149.85  \n",
       "3    9/11/21  185.49  \n",
       "4    8/27/21  109.35  \n",
       "5     8/3/21  206.55  \n",
       "6     4/1/21  206.55  \n",
       "7     6/3/21  265.68  \n",
       "8    8/17/21  295.65  \n",
       "9   12/17/21  265.68  "
      ]
     },
     "execution_count": 1,
     "metadata": {},
     "output_type": "execute_result"
    }
   ],
   "source": [
    "# Imports\n",
    "import pandas as pd\n",
    "\n",
    "# ImpexiumInsights is the membership data\n",
    "df = pd.read_csv('subscription.csv')\n",
    "df['Client'] = df['Client'].replace('Client_3', 'NAIOP')\n",
    "\n",
    "# Change clients to a more readable format as the following:\n",
    "# Client_3 -> NAIOP\n",
    "df.head(10)"
   ]
  },
  {
   "cell_type": "code",
   "execution_count": 2,
   "metadata": {},
   "outputs": [
    {
     "name": "stdout",
     "output_type": "stream",
     "text": [
      "Are there any entries in the new data frame that are invalid for dates? False\n"
     ]
    }
   ],
   "source": [
    "# Removing all entries where EffectiveDate > ExpireDate\n",
    "df['EffectiveDate'] = pd.to_datetime(df['EffectiveDate'], format='%m/%d/%y')\n",
    "df['ExpireDate'] = pd.to_datetime(df['ExpireDate'], format='%m/%d/%y')\n",
    "valid_df = df[df['EffectiveDate'] <= df['ExpireDate']]\n",
    "\n",
    "# Check \n",
    "invalid_df = valid_df[valid_df['EffectiveDate'] > valid_df['ExpireDate']]\n",
    "print(\"Are there any entries in the new data frame that are invalid for dates?\", not(invalid_df.to_xarray))\n",
    "\n",
    "\n",
    "# Check passed so modify data frame\n",
    "df = valid_df"
   ]
  },
  {
   "cell_type": "code",
   "execution_count": 3,
   "metadata": {},
   "outputs": [
    {
     "name": "stdout",
     "output_type": "stream",
     "text": [
      "Are there any prices that are 0 or negative? False\n"
     ]
    }
   ],
   "source": [
    "# Are there any prices that are 0 or negative?\n",
    "invalid_rows = df[df['Total'] <= 0]\n",
    "\n",
    "# Check\n",
    "print(\"Are there any prices that are 0 or negative?\", not(invalid_rows.to_xarray))"
   ]
  },
  {
   "cell_type": "code",
   "execution_count": 4,
   "metadata": {},
   "outputs": [
    {
     "name": "stdout",
     "output_type": "stream",
     "text": [
      "There are no duplicates in the new data frame, based on the specified columns above? True\n"
     ]
    }
   ],
   "source": [
    "# Dropping all duplicates that have the same ContactId, ProductId, EffectiveDate, and ExpireDate\n",
    "df['EffectiveDate'] = pd.to_datetime(df['EffectiveDate'], format='%m/%d/%y')\n",
    "df['ExpireDate'] = pd.to_datetime(df['ExpireDate'], format='%m/%d/%y')\n",
    "df_unique = df.drop_duplicates(subset=['ContactId', 'ProductId', 'EffectiveDate', 'ExpireDate'])\n",
    "\n",
    "# Check \n",
    "duplicates_check = df_unique.duplicated(subset=['ContactId', 'ProductId', 'EffectiveDate', 'ExpireDate'], keep=False)\n",
    "no_duplicates = not duplicates_check.any()\n",
    "print(\"There are no duplicates in the new data frame, based on the specified columns above?\", no_duplicates)\n",
    "\n",
    "# Check passed so modify data frame\n",
    "df = df_unique"
   ]
  },
  {
   "cell_type": "code",
   "execution_count": 5,
   "metadata": {},
   "outputs": [
    {
     "name": "stdout",
     "output_type": "stream",
     "text": [
      "Are there any null or missing values in the data frame? False\n"
     ]
    }
   ],
   "source": [
    "# Identifying any null or missing values\n",
    "missing_entries = df[df.isnull().any(axis=1) | df.applymap(lambda x: x == '').any(axis=1)]\n",
    "\n",
    "# Check\n",
    "print(\"Are there any null or missing values in the data frame?\", not(missing_entries.to_xarray))"
   ]
  },
  {
   "cell_type": "code",
   "execution_count": 6,
   "metadata": {},
   "outputs": [
    {
     "name": "stdout",
     "output_type": "stream",
     "text": [
      "Checks:\n",
      "True\n",
      "True\n"
     ]
    }
   ],
   "source": [
    "# Cleaning: removing all dates in the future.\n",
    "\n",
    "# Cutoff date is May 2024\n",
    "cutoff_date = pd.Timestamp('2024-05-01')\n",
    "df_filtered = df[(df['EffectiveDate'] < cutoff_date) & (df['ExpireDate'] < cutoff_date)]\n",
    "eff_check = df_filtered['EffectiveDate'].max()\n",
    "exp_check = df_filtered['ExpireDate'].max()\n",
    "print(\"Checks:\")\n",
    "print(eff_check < cutoff_date)\n",
    "print(exp_check < cutoff_date)\n",
    "\n",
    "# Check passed so modify data frame\n",
    "df = df_filtered"
   ]
  },
  {
   "cell_type": "code",
   "execution_count": 7,
   "metadata": {},
   "outputs": [
    {
     "name": "stdout",
     "output_type": "stream",
     "text": [
      "  ContactId                            ClientId Client  \\\n",
      "0  Member 1  0x69CB4E2FB587F20F7AF21D60E989ADAB  NAIOP   \n",
      "1  Member 2  0x69CB4E2FB587F20F7AF21D60E989ADAB  NAIOP   \n",
      "2  Member 3  0x69CB4E2FB587F20F7AF21D60E989ADAB  NAIOP   \n",
      "3  Member 4  0x69CB4E2FB587F20F7AF21D60E989ADAB  NAIOP   \n",
      "4  Member 5  0x69CB4E2FB587F20F7AF21D60E989ADAB  NAIOP   \n",
      "\n",
      "                            ProductId   ProductType EffectiveDate ExpireDate  \\\n",
      "0  0x3D5A19AE11AFFDB22AD9FFDD548D2E9F  Subscription    2021-06-23 2021-12-22   \n",
      "1  0x3D5A19AE11AFFDB22AD9FFDD548D2E9F  Subscription    2021-06-23 2021-12-22   \n",
      "2  0x5DC2BF4201BAA480B8B9E34BD2E8CC2E  Subscription    2021-03-10 2021-09-09   \n",
      "3  0x3D86FFF3CCD71A7D8C33069E4FF64A97  Subscription    2021-03-12 2021-09-11   \n",
      "4  0x5DC2BF4201BAA480B8B9E34BD2E8CC2E  Subscription    2021-02-28 2021-08-27   \n",
      "\n",
      "    Total  \n",
      "0  518.40  \n",
      "1  376.65  \n",
      "2  149.85  \n",
      "3  185.49  \n",
      "4  109.35  \n"
     ]
    }
   ],
   "source": [
    "# Generate a unique \"Member X\" identifier for each unique ContactId\n",
    "temp_df = df.copy()\n",
    "unique_ids = temp_df['ContactId'].unique()\n",
    "member_mapping = {id_: f\"Member {i+1}\" for i, id_ in enumerate(unique_ids)}\n",
    "temp_df['ContactId'] = temp_df['ContactId'].map(member_mapping)\n",
    "\n",
    "# Check\n",
    "print(temp_df.head(5))\n",
    "\n",
    "# Check passed so modify data frame\n",
    "df = temp_df"
   ]
  },
  {
   "cell_type": "code",
   "execution_count": 8,
   "metadata": {},
   "outputs": [],
   "source": [
    "# Saving updated data frame to the csv\n",
    "# Always run this at the end of your work session:\n",
    "df.to_csv('modified_subscription.csv', index=False)"
   ]
  }
 ],
 "metadata": {
  "kernelspec": {
   "display_name": "Python 3",
   "language": "python",
   "name": "python3"
  },
  "language_info": {
   "codemirror_mode": {
    "name": "ipython",
    "version": 3
   },
   "file_extension": ".py",
   "mimetype": "text/x-python",
   "name": "python",
   "nbconvert_exporter": "python",
   "pygments_lexer": "ipython3",
   "version": "3.10.7"
  }
 },
 "nbformat": 4,
 "nbformat_minor": 2
}
